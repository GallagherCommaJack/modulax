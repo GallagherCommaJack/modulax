{
 "cells": [
  {
   "cell_type": "code",
   "execution_count": 1,
   "metadata": {},
   "outputs": [],
   "source": [
    "import jax\n",
    "import jax.numpy as jnp\n",
    "from modulax.compound import Attention\n",
    "from modulax.atom import Linear"
   ]
  },
  {
   "cell_type": "code",
   "execution_count": 2,
   "metadata": {},
   "outputs": [
    {
     "name": "stdout",
     "output_type": "stream",
     "text": [
      "((((110, 56), None), ((110, 56), None), ((130, 56), None)), (None, (None, (56, 130))))\n"
     ]
    }
   ],
   "source": [
    "num_heads = 5\n",
    "d_model = 56\n",
    "d_qk = 22\n",
    "d_v = 26\n",
    "b = 16\n",
    "s = 24\n",
    "x = jax.random.normal(jax.random.PRNGKey(0), (b, s, d_model))\n",
    "attn = Attention(\n",
    "    num_heads=num_heads,\n",
    "    d_model=d_model,\n",
    "    d_qk=d_qk,\n",
    "    d_v=d_v,\n",
    ")\n",
    "p = attn.init_params(jax.random.PRNGKey(1))\n",
    "o = attn.init_opt_state(jax.random.PRNGKey(2), p)\n",
    "print(jax.tree.map(lambda x: x.shape, p))"
   ]
  },
  {
   "cell_type": "code",
   "execution_count": 4,
   "metadata": {},
   "outputs": [],
   "source": [
    "y = attn(jax.random.PRNGKey(3), p, x)"
   ]
  },
  {
   "cell_type": "code",
   "execution_count": 5,
   "metadata": {},
   "outputs": [
    {
     "name": "stdout",
     "output_type": "stream",
     "text": [
      "((((110, 56), None), ((110, 56), None), ((130, 56), None)), (None, (None, (56, 130))))\n"
     ]
    }
   ],
   "source": [
    "def loss(p, x):\n",
    "    y = attn(jax.random.PRNGKey(3), p, x)\n",
    "    return jnp.mean(jnp.abs(y))\n",
    "\n",
    "dp = jax.grad(loss)(p, x)\n",
    "print(jax.tree.map(lambda x: x.shape, dp))"
   ]
  },
  {
   "cell_type": "code",
   "execution_count": 6,
   "metadata": {},
   "outputs": [],
   "source": [
    "o, p_ = attn.apply_update(o, p, dp)\n",
    "delta = jax.tree.map(lambda x, y: (x - y), p, p_)"
   ]
  },
  {
   "cell_type": "code",
   "execution_count": null,
   "metadata": {},
   "outputs": [],
   "source": []
  }
 ],
 "metadata": {
  "kernelspec": {
   "display_name": "modulax-U3bmn2va-py3.10",
   "language": "python",
   "name": "python3"
  },
  "language_info": {
   "codemirror_mode": {
    "name": "ipython",
    "version": 3
   },
   "file_extension": ".py",
   "mimetype": "text/x-python",
   "name": "python",
   "nbconvert_exporter": "python",
   "pygments_lexer": "ipython3",
   "version": "3.10.14"
  }
 },
 "nbformat": 4,
 "nbformat_minor": 2
}
